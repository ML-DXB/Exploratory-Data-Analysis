{
 "cells": [
  {
   "cell_type": "code",
   "execution_count": 1,
   "metadata": {},
   "outputs": [],
   "source": [
    "import numpy as np\n",
    "import pandas as pd\n",
    "import matplotlib.pyplot as plt\n",
    "import seaborn as sns\n",
    "\n",
    "from sklearn.preprocessing import StandardScaler\n",
    "from sklearn.decomposition import PCA\n",
    "from sklearn.cluster import KMeans\n",
    "\n",
    "# magic word for producing visualizations in notebook\n",
    "%matplotlib inline"
   ]
  },
  {
   "cell_type": "markdown",
   "metadata": {},
   "source": [
    "### Step 0: Load the Data"
   ]
  },
  {
   "cell_type": "code",
   "execution_count": 2,
   "metadata": {},
   "outputs": [],
   "source": [
    "df_pg = pd.read_excel('PG_complete_data.xlsx')\n",
    "df_emr = pd.read_excel('EMR_complete_data.xlsx')"
   ]
  },
  {
   "cell_type": "code",
   "execution_count": 3,
   "metadata": {},
   "outputs": [
    {
     "data": {
      "text/html": [
       "<div>\n",
       "<style scoped>\n",
       "    .dataframe tbody tr th:only-of-type {\n",
       "        vertical-align: middle;\n",
       "    }\n",
       "\n",
       "    .dataframe tbody tr th {\n",
       "        vertical-align: top;\n",
       "    }\n",
       "\n",
       "    .dataframe thead th {\n",
       "        text-align: right;\n",
       "    }\n",
       "</style>\n",
       "<table border=\"1\" class=\"dataframe\">\n",
       "  <thead>\n",
       "    <tr style=\"text-align: right;\">\n",
       "      <th></th>\n",
       "      <th>ENCOUNTER_ID</th>\n",
       "      <th>ORGANIZATION_NAME</th>\n",
       "      <th>YEARS</th>\n",
       "      <th>MONTHS</th>\n",
       "      <th>DAYS</th>\n",
       "      <th>MED_RESOURCE_SERVICES</th>\n",
       "      <th>DESCRIPTION</th>\n",
       "      <th>PHYSICIAN_ATTENDING</th>\n",
       "      <th>PRSNL_GROUP_NAME</th>\n",
       "      <th>DEPARTMENT_NAME</th>\n",
       "      <th>SECTIONS</th>\n",
       "      <th>APPT_DT_TM</th>\n",
       "      <th>APPT_TYPE</th>\n",
       "      <th>SLOT_TYPE_DESC</th>\n",
       "      <th>MRN</th>\n",
       "      <th>BIRTH_DT_TM</th>\n",
       "      <th>AGE</th>\n",
       "      <th>GENDER</th>\n",
       "      <th>PATIENT_NATIONALITY</th>\n",
       "      <th>MARITAL_STATUS</th>\n",
       "    </tr>\n",
       "  </thead>\n",
       "  <tbody>\n",
       "    <tr>\n",
       "      <th>0</th>\n",
       "      <td>80468944</td>\n",
       "      <td>KFSH &amp; RC (Riyadh)</td>\n",
       "      <td>2018</td>\n",
       "      <td>1</td>\n",
       "      <td>28</td>\n",
       "      <td>ONC-Radiation Oncology\\r\\n</td>\n",
       "      <td>Radiation Oncology FU</td>\n",
       "      <td>Alomair, Ameen Saleh</td>\n",
       "      <td>ONC-Radiation Oncology</td>\n",
       "      <td>Oncology</td>\n",
       "      <td>Radiation Oncology</td>\n",
       "      <td>2018-01-28 10:30:00</td>\n",
       "      <td>Radiation Oncology New Follow-up</td>\n",
       "      <td>Report Slot Group</td>\n",
       "      <td>1</td>\n",
       "      <td>1958</td>\n",
       "      <td>60.0</td>\n",
       "      <td>Male</td>\n",
       "      <td>Saudi Arabia</td>\n",
       "      <td>Married</td>\n",
       "    </tr>\n",
       "    <tr>\n",
       "      <th>1</th>\n",
       "      <td>80572933</td>\n",
       "      <td>KFSH &amp; RC (Riyadh)</td>\n",
       "      <td>2018</td>\n",
       "      <td>1</td>\n",
       "      <td>1</td>\n",
       "      <td>ONC-Infusionl\\r\\n</td>\n",
       "      <td>Infusion Center Visit</td>\n",
       "      <td>Infusion, Zone Five</td>\n",
       "      <td>ONC-Infusionl</td>\n",
       "      <td>Oncology</td>\n",
       "      <td>Infusionl</td>\n",
       "      <td>2018-01-01 09:00:00</td>\n",
       "      <td>Infusion Center Visit</td>\n",
       "      <td>Undefined</td>\n",
       "      <td>2</td>\n",
       "      <td>1994</td>\n",
       "      <td>23.0</td>\n",
       "      <td>Male</td>\n",
       "      <td>Saudi Arabia</td>\n",
       "      <td>Single</td>\n",
       "    </tr>\n",
       "    <tr>\n",
       "      <th>2</th>\n",
       "      <td>80595172</td>\n",
       "      <td>KFSH &amp; RC (Riyadh)</td>\n",
       "      <td>2018</td>\n",
       "      <td>1</td>\n",
       "      <td>1</td>\n",
       "      <td>ONC-Infusionl\\r\\n</td>\n",
       "      <td>Infusion Center Procedure Visit</td>\n",
       "      <td>Infusion Procedure, Room 1</td>\n",
       "      <td>ONC-Infusionl</td>\n",
       "      <td>Oncology</td>\n",
       "      <td>Infusionl</td>\n",
       "      <td>2018-01-01 10:00:00</td>\n",
       "      <td>infusion Procedure Visit</td>\n",
       "      <td>Undefined</td>\n",
       "      <td>3</td>\n",
       "      <td>1978</td>\n",
       "      <td>39.0</td>\n",
       "      <td>Female</td>\n",
       "      <td>Saudi Arabia</td>\n",
       "      <td>Married</td>\n",
       "    </tr>\n",
       "    <tr>\n",
       "      <th>3</th>\n",
       "      <td>80596450</td>\n",
       "      <td>KFSH &amp; RC (Riyadh)</td>\n",
       "      <td>2018</td>\n",
       "      <td>1</td>\n",
       "      <td>1</td>\n",
       "      <td>ONC-Radiation Oncology</td>\n",
       "      <td>T6 (Tomotherapy) FU</td>\n",
       "      <td>T6, TOMOTHERAPY</td>\n",
       "      <td>ONC-Radiation Oncology</td>\n",
       "      <td>Oncology</td>\n",
       "      <td>Radiation Oncology</td>\n",
       "      <td>2018-01-01 08:50:00</td>\n",
       "      <td>T6 (TOMOTHERAPY) Follow-up</td>\n",
       "      <td>Follow-up Slots Group</td>\n",
       "      <td>4</td>\n",
       "      <td>1973</td>\n",
       "      <td>44.0</td>\n",
       "      <td>Male</td>\n",
       "      <td>Saudi Arabia</td>\n",
       "      <td>Married</td>\n",
       "    </tr>\n",
       "    <tr>\n",
       "      <th>4</th>\n",
       "      <td>80596453</td>\n",
       "      <td>KFSH &amp; RC (Riyadh)</td>\n",
       "      <td>2018</td>\n",
       "      <td>1</td>\n",
       "      <td>1</td>\n",
       "      <td>ONC-Radiation Oncology\\r\\n</td>\n",
       "      <td>Radiation Oncology FU</td>\n",
       "      <td>Alrajhi, Nasser Mohamed</td>\n",
       "      <td>ONC-Radiation Oncology</td>\n",
       "      <td>Oncology</td>\n",
       "      <td>Radiation Oncology</td>\n",
       "      <td>2018-01-01 14:45:00</td>\n",
       "      <td>Radiation Oncology New Follow-up</td>\n",
       "      <td>Report Slot Group</td>\n",
       "      <td>4</td>\n",
       "      <td>1973</td>\n",
       "      <td>44.0</td>\n",
       "      <td>Male</td>\n",
       "      <td>Saudi Arabia</td>\n",
       "      <td>Married</td>\n",
       "    </tr>\n",
       "  </tbody>\n",
       "</table>\n",
       "</div>"
      ],
      "text/plain": [
       "   ENCOUNTER_ID   ORGANIZATION_NAME  YEARS  MONTHS  DAYS  \\\n",
       "0      80468944  KFSH & RC (Riyadh)   2018       1    28   \n",
       "1      80572933  KFSH & RC (Riyadh)   2018       1     1   \n",
       "2      80595172  KFSH & RC (Riyadh)   2018       1     1   \n",
       "3      80596450  KFSH & RC (Riyadh)   2018       1     1   \n",
       "4      80596453  KFSH & RC (Riyadh)   2018       1     1   \n",
       "\n",
       "        MED_RESOURCE_SERVICES                      DESCRIPTION  \\\n",
       "0  ONC-Radiation Oncology\\r\\n            Radiation Oncology FU   \n",
       "1           ONC-Infusionl\\r\\n            Infusion Center Visit   \n",
       "2           ONC-Infusionl\\r\\n  Infusion Center Procedure Visit   \n",
       "3      ONC-Radiation Oncology              T6 (Tomotherapy) FU   \n",
       "4  ONC-Radiation Oncology\\r\\n            Radiation Oncology FU   \n",
       "\n",
       "          PHYSICIAN_ATTENDING        PRSNL_GROUP_NAME DEPARTMENT_NAME  \\\n",
       "0        Alomair, Ameen Saleh  ONC-Radiation Oncology        Oncology   \n",
       "1         Infusion, Zone Five           ONC-Infusionl        Oncology   \n",
       "2  Infusion Procedure, Room 1           ONC-Infusionl        Oncology   \n",
       "3             T6, TOMOTHERAPY  ONC-Radiation Oncology        Oncology   \n",
       "4     Alrajhi, Nasser Mohamed  ONC-Radiation Oncology        Oncology   \n",
       "\n",
       "             SECTIONS          APPT_DT_TM                         APPT_TYPE  \\\n",
       "0  Radiation Oncology 2018-01-28 10:30:00  Radiation Oncology New Follow-up   \n",
       "1           Infusionl 2018-01-01 09:00:00             Infusion Center Visit   \n",
       "2           Infusionl 2018-01-01 10:00:00          infusion Procedure Visit   \n",
       "3  Radiation Oncology 2018-01-01 08:50:00        T6 (TOMOTHERAPY) Follow-up   \n",
       "4  Radiation Oncology 2018-01-01 14:45:00  Radiation Oncology New Follow-up   \n",
       "\n",
       "          SLOT_TYPE_DESC  MRN  BIRTH_DT_TM   AGE  GENDER PATIENT_NATIONALITY  \\\n",
       "0      Report Slot Group    1         1958  60.0    Male        Saudi Arabia   \n",
       "1              Undefined    2         1994  23.0    Male        Saudi Arabia   \n",
       "2              Undefined    3         1978  39.0  Female        Saudi Arabia   \n",
       "3  Follow-up Slots Group    4         1973  44.0    Male        Saudi Arabia   \n",
       "4      Report Slot Group    4         1973  44.0    Male        Saudi Arabia   \n",
       "\n",
       "  MARITAL_STATUS  \n",
       "0        Married  \n",
       "1         Single  \n",
       "2        Married  \n",
       "3        Married  \n",
       "4        Married  "
      ]
     },
     "execution_count": 3,
     "metadata": {},
     "output_type": "execute_result"
    }
   ],
   "source": [
    "df_emr.head()"
   ]
  },
  {
   "cell_type": "code",
   "execution_count": 4,
   "metadata": {},
   "outputs": [
    {
     "data": {
      "text/html": [
       "<div>\n",
       "<style scoped>\n",
       "    .dataframe tbody tr th:only-of-type {\n",
       "        vertical-align: middle;\n",
       "    }\n",
       "\n",
       "    .dataframe tbody tr th {\n",
       "        vertical-align: top;\n",
       "    }\n",
       "\n",
       "    .dataframe thead th {\n",
       "        text-align: right;\n",
       "    }\n",
       "</style>\n",
       "<table border=\"1\" class=\"dataframe\">\n",
       "  <thead>\n",
       "    <tr style=\"text-align: right;\">\n",
       "      <th></th>\n",
       "      <th>HOS</th>\n",
       "      <th>BGUNCODL</th>\n",
       "      <th>DISMM</th>\n",
       "      <th>DISDD</th>\n",
       "      <th>DISYR</th>\n",
       "      <th>OCCUR</th>\n",
       "      <th>CSURVEY</th>\n",
       "      <th>A1</th>\n",
       "      <th>A2</th>\n",
       "      <th>REG1</th>\n",
       "      <th>...</th>\n",
       "      <th>I6</th>\n",
       "      <th>I47</th>\n",
       "      <th>I17</th>\n",
       "      <th>I13</th>\n",
       "      <th>O1</th>\n",
       "      <th>O2</th>\n",
       "      <th>O3</th>\n",
       "      <th>RACE</th>\n",
       "      <th>SEX</th>\n",
       "      <th>AGE</th>\n",
       "    </tr>\n",
       "  </thead>\n",
       "  <tbody>\n",
       "    <tr>\n",
       "      <th>0</th>\n",
       "      <td>15611</td>\n",
       "      <td>1237</td>\n",
       "      <td>9</td>\n",
       "      <td>8</td>\n",
       "      <td>2019</td>\n",
       "      <td>2.0</td>\n",
       "      <td>1.0</td>\n",
       "      <td>5.0</td>\n",
       "      <td>4.0</td>\n",
       "      <td>5.0</td>\n",
       "      <td>...</td>\n",
       "      <td>5.0</td>\n",
       "      <td>4.0</td>\n",
       "      <td>5.0</td>\n",
       "      <td>4.0</td>\n",
       "      <td>4.0</td>\n",
       "      <td>4.0</td>\n",
       "      <td>5.0</td>\n",
       "      <td>16.0</td>\n",
       "      <td>2</td>\n",
       "      <td>45.0</td>\n",
       "    </tr>\n",
       "    <tr>\n",
       "      <th>1</th>\n",
       "      <td>15611</td>\n",
       "      <td>1234</td>\n",
       "      <td>11</td>\n",
       "      <td>19</td>\n",
       "      <td>2018</td>\n",
       "      <td>1.0</td>\n",
       "      <td>1.0</td>\n",
       "      <td>3.0</td>\n",
       "      <td>4.0</td>\n",
       "      <td>5.0</td>\n",
       "      <td>...</td>\n",
       "      <td>5.0</td>\n",
       "      <td>4.0</td>\n",
       "      <td>3.0</td>\n",
       "      <td>4.0</td>\n",
       "      <td>5.0</td>\n",
       "      <td>4.0</td>\n",
       "      <td>5.0</td>\n",
       "      <td>16.0</td>\n",
       "      <td>1</td>\n",
       "      <td>53.0</td>\n",
       "    </tr>\n",
       "    <tr>\n",
       "      <th>2</th>\n",
       "      <td>15611</td>\n",
       "      <td>1237</td>\n",
       "      <td>9</td>\n",
       "      <td>24</td>\n",
       "      <td>2019</td>\n",
       "      <td>1.0</td>\n",
       "      <td>1.0</td>\n",
       "      <td>5.0</td>\n",
       "      <td>5.0</td>\n",
       "      <td>5.0</td>\n",
       "      <td>...</td>\n",
       "      <td>5.0</td>\n",
       "      <td>5.0</td>\n",
       "      <td>5.0</td>\n",
       "      <td>5.0</td>\n",
       "      <td>5.0</td>\n",
       "      <td>5.0</td>\n",
       "      <td>5.0</td>\n",
       "      <td>16.0</td>\n",
       "      <td>2</td>\n",
       "      <td>35.0</td>\n",
       "    </tr>\n",
       "    <tr>\n",
       "      <th>3</th>\n",
       "      <td>15611</td>\n",
       "      <td>1237</td>\n",
       "      <td>11</td>\n",
       "      <td>19</td>\n",
       "      <td>2018</td>\n",
       "      <td>2.0</td>\n",
       "      <td>1.0</td>\n",
       "      <td>3.0</td>\n",
       "      <td>3.0</td>\n",
       "      <td>5.0</td>\n",
       "      <td>...</td>\n",
       "      <td>NaN</td>\n",
       "      <td>NaN</td>\n",
       "      <td>NaN</td>\n",
       "      <td>NaN</td>\n",
       "      <td>NaN</td>\n",
       "      <td>4.0</td>\n",
       "      <td>NaN</td>\n",
       "      <td>16.0</td>\n",
       "      <td>1</td>\n",
       "      <td>73.0</td>\n",
       "    </tr>\n",
       "    <tr>\n",
       "      <th>4</th>\n",
       "      <td>15611</td>\n",
       "      <td>1234</td>\n",
       "      <td>11</td>\n",
       "      <td>11</td>\n",
       "      <td>2019</td>\n",
       "      <td>1.0</td>\n",
       "      <td>1.0</td>\n",
       "      <td>5.0</td>\n",
       "      <td>5.0</td>\n",
       "      <td>4.0</td>\n",
       "      <td>...</td>\n",
       "      <td>5.0</td>\n",
       "      <td>5.0</td>\n",
       "      <td>5.0</td>\n",
       "      <td>4.0</td>\n",
       "      <td>5.0</td>\n",
       "      <td>5.0</td>\n",
       "      <td>5.0</td>\n",
       "      <td>16.0</td>\n",
       "      <td>1</td>\n",
       "      <td>41.0</td>\n",
       "    </tr>\n",
       "  </tbody>\n",
       "</table>\n",
       "<p>5 rows × 44 columns</p>\n",
       "</div>"
      ],
      "text/plain": [
       "     HOS  BGUNCODL  DISMM  DISDD  DISYR  OCCUR  CSURVEY   A1   A2  REG1  ...  \\\n",
       "0  15611      1237      9      8   2019    2.0      1.0  5.0  4.0   5.0  ...   \n",
       "1  15611      1234     11     19   2018    1.0      1.0  3.0  4.0   5.0  ...   \n",
       "2  15611      1237      9     24   2019    1.0      1.0  5.0  5.0   5.0  ...   \n",
       "3  15611      1237     11     19   2018    2.0      1.0  3.0  3.0   5.0  ...   \n",
       "4  15611      1234     11     11   2019    1.0      1.0  5.0  5.0   4.0  ...   \n",
       "\n",
       "    I6  I47  I17  I13   O1   O2   O3  RACE  SEX   AGE  \n",
       "0  5.0  4.0  5.0  4.0  4.0  4.0  5.0  16.0    2  45.0  \n",
       "1  5.0  4.0  3.0  4.0  5.0  4.0  5.0  16.0    1  53.0  \n",
       "2  5.0  5.0  5.0  5.0  5.0  5.0  5.0  16.0    2  35.0  \n",
       "3  NaN  NaN  NaN  NaN  NaN  4.0  NaN  16.0    1  73.0  \n",
       "4  5.0  5.0  5.0  4.0  5.0  5.0  5.0  16.0    1  41.0  \n",
       "\n",
       "[5 rows x 44 columns]"
      ]
     },
     "execution_count": 4,
     "metadata": {},
     "output_type": "execute_result"
    }
   ],
   "source": [
    "df_pg.head()"
   ]
  },
  {
   "cell_type": "markdown",
   "metadata": {},
   "source": [
    "### EDA"
   ]
  },
  {
   "cell_type": "markdown",
   "metadata": {},
   "source": [
    "#### EDA:  PG data "
   ]
  },
  {
   "cell_type": "code",
   "execution_count": 5,
   "metadata": {},
   "outputs": [
    {
     "data": {
      "text/plain": [
       "(5078, 44)"
      ]
     },
     "execution_count": 5,
     "metadata": {},
     "output_type": "execute_result"
    }
   ],
   "source": [
    "df_pg.shape"
   ]
  },
  {
   "cell_type": "code",
   "execution_count": 6,
   "metadata": {},
   "outputs": [
    {
     "data": {
      "text/plain": [
       "Index(['HOS', 'BGUNCODL', 'DISMM', 'DISDD', 'DISYR', 'OCCUR', 'CSURVEY', 'A1',\n",
       "       'A2', 'REG1', 'REG2', 'FAC1', 'FAC2', 'FAC3', 'FAC4', 'MED39', 'MED37',\n",
       "       'MED27', 'RT1', 'RT2', 'RT3', 'RT4', 'RT5', 'CT1', 'CT2', 'CT3', 'CT4',\n",
       "       'CT5', 'CT6', 'I1', 'I2', 'I3', 'I4', 'I5', 'I6', 'I47', 'I17', 'I13',\n",
       "       'O1', 'O2', 'O3', 'RACE', 'SEX', 'AGE'],\n",
       "      dtype='object')"
      ]
     },
     "execution_count": 6,
     "metadata": {},
     "output_type": "execute_result"
    }
   ],
   "source": [
    "df_pg.columns"
   ]
  },
  {
   "cell_type": "code",
   "execution_count": 7,
   "metadata": {},
   "outputs": [
    {
     "data": {
      "text/plain": [
       "Index(['A1', 'A2', 'REG1', 'REG2', 'FAC1', 'FAC2', 'FAC3', 'FAC4', 'MED39',\n",
       "       'MED37', 'MED27', 'RT1', 'RT2', 'RT3', 'RT4', 'RT5', 'CT1', 'CT2',\n",
       "       'CT3', 'CT4', 'CT5', 'CT6', 'I1', 'I2', 'I3', 'I4', 'I5', 'I6', 'I47',\n",
       "       'I17', 'I13', 'O1', 'O2', 'O3'],\n",
       "      dtype='object')"
      ]
     },
     "execution_count": 7,
     "metadata": {},
     "output_type": "execute_result"
    }
   ],
   "source": [
    "#survey questions \n",
    "df_pg.iloc[:, 7:-3].columns"
   ]
  },
  {
   "cell_type": "code",
   "execution_count": 8,
   "metadata": {},
   "outputs": [
    {
     "name": "stdout",
     "output_type": "stream",
     "text": [
      "Total unnswered surveys 2078 or 40.92%\n"
     ]
    }
   ],
   "source": [
    "#Not answered surveys\n",
    "not_answered = len(df_pg[df_pg.iloc[:, 7:-3].isna().all(axis=1)])\n",
    "print('Total unnswered surveys {} or {}%'.format(not_answered, np.round(not_answered/df_pg.shape[0]*100,2)))"
   ]
  },
  {
   "cell_type": "code",
   "execution_count": 9,
   "metadata": {},
   "outputs": [
    {
     "name": "stdout",
     "output_type": "stream",
     "text": [
      "101967\n"
     ]
    }
   ],
   "source": [
    "#find Null values in the entire dataframe\n",
    "print(df_pg.isnull().sum().sum())"
   ]
  },
  {
   "cell_type": "code",
   "execution_count": 10,
   "metadata": {},
   "outputs": [
    {
     "data": {
      "text/plain": [
       "AGE         0.019693\n",
       "RACE        0.039386\n",
       "CSURVEY    40.035447\n",
       "FAC3       43.442300\n",
       "FAC2       43.698306\n",
       "MED37      44.151241\n",
       "FAC1       44.426940\n",
       "OCCUR      44.525404\n",
       "MED39      44.604175\n",
       "REG2       44.722332\n",
       "MED27      45.234344\n",
       "REG1       45.785742\n",
       "A1         46.002363\n",
       "A2         46.494683\n",
       "FAC4       47.380859\n",
       "I17        48.267034\n",
       "I6         48.680583\n",
       "O2         48.956282\n",
       "I4         49.291059\n",
       "I1         49.409216\n",
       "O3         49.409216\n",
       "I5         49.468295\n",
       "I3         49.665223\n",
       "I13        49.881843\n",
       "I47        50.137850\n",
       "I2         50.334777\n",
       "O1         50.807404\n",
       "CT6        74.241827\n",
       "CT4        75.147696\n",
       "CT3        75.167389\n",
       "CT1        75.206774\n",
       "CT5        75.265853\n",
       "CT2        75.364317\n",
       "RT2        76.191414\n",
       "RT5        76.467113\n",
       "RT3        76.604963\n",
       "RT4        76.742812\n",
       "RT1        76.742812\n",
       "dtype: float64"
      ]
     },
     "execution_count": 10,
     "metadata": {},
     "output_type": "execute_result"
    }
   ],
   "source": [
    "pg_missing_data = df_pg.isnull().sum()\n",
    "#get the percentage\n",
    "pg_missing_data = pg_missing_data[pg_missing_data > 0]/(df_pg.shape[0]) * 100\n",
    "# #sort the values\n",
    "pg_missing_data.sort_values()\n",
    "# inplace=True"
   ]
  },
  {
   "cell_type": "code",
   "execution_count": 11,
   "metadata": {},
   "outputs": [
    {
     "data": {
      "image/png": "[encoded data removed]",
      "text/plain": [
       "<Figure size 432x288 with 1 Axes>"
      ]
     },
     "metadata": {
      "needs_background": "light"
     },
     "output_type": "display_data"
    }
   ],
   "source": [
    "plt.hist(pg_missing_data, bins = 25)\n",
    "\n",
    "plt.xlabel('Percentage of missing data(%)')\n",
    "plt.ylabel('Counts')\n",
    "plt.title('Histogram of number of missing data')\n",
    "plt.grid(True)\n",
    "plt.show()"
   ]
  },
  {
   "cell_type": "code",
   "execution_count": 12,
   "metadata": {},
   "outputs": [
    {
     "data": {
      "image/png": "[encoded data removed]",
      "text/plain": [
       "<Figure size 720x1440 with 1 Axes>"
      ]
     },
     "metadata": {
      "needs_background": "light"
     },
     "output_type": "display_data"
    }
   ],
   "source": [
    "pg_missing_data.plot.barh(figsize=(10,20));\n",
    "plt.ylabel('Column name')\n",
    "plt.xlabel('Percentage of missing values')\n",
    "plt.show()"
   ]
  },
  {
   "cell_type": "code",
   "execution_count": null,
   "metadata": {},
   "outputs": [],
   "source": []
  },
  {
   "cell_type": "code",
   "execution_count": 13,
   "metadata": {},
   "outputs": [
    {
     "data": {
      "text/plain": [
       "2    2643\n",
       "1    2435\n",
       "Name: SEX, dtype: int64"
      ]
     },
     "execution_count": 13,
     "metadata": {},
     "output_type": "execute_result"
    }
   ],
   "source": [
    "df_pg['SEX'].value_counts()"
   ]
  },
  {
   "cell_type": "code",
   "execution_count": 14,
   "metadata": {},
   "outputs": [
    {
     "data": {
      "text/plain": [
       "<AxesSubplot:xlabel='SEX'>"
      ]
     },
     "execution_count": 14,
     "metadata": {},
     "output_type": "execute_result"
    },
    {
     "data": {
      "image/png": "[encoded data removed]",
      "text/plain": [
       "<Figure size 432x288 with 1 Axes>"
      ]
     },
     "metadata": {
      "needs_background": "light"
     },
     "output_type": "display_data"
    }
   ],
   "source": [
    "df_pg.groupby(['SEX']).size().plot(kind = \"bar\") "
   ]
  },
  {
   "cell_type": "code",
   "execution_count": 15,
   "metadata": {},
   "outputs": [
    {
     "data": {
      "text/plain": [
       "16.0    4970\n",
       "18.0      62\n",
       "9.0       36\n",
       "19.0       8\n",
       "Name: RACE, dtype: int64"
      ]
     },
     "execution_count": 15,
     "metadata": {},
     "output_type": "execute_result"
    }
   ],
   "source": [
    "df_pg['RACE'].value_counts()"
   ]
  },
  {
   "cell_type": "code",
   "execution_count": 16,
   "metadata": {},
   "outputs": [
    {
     "data": {
      "text/plain": [
       "1.0    2195\n",
       "2.0     622\n",
       "Name: OCCUR, dtype: int64"
      ]
     },
     "execution_count": 16,
     "metadata": {},
     "output_type": "execute_result"
    }
   ],
   "source": [
    "df_pg['OCCUR'].value_counts()"
   ]
  },
  {
   "cell_type": "code",
   "execution_count": 17,
   "metadata": {},
   "outputs": [
    {
     "data": {
      "text/plain": [
       "<AxesSubplot:xlabel='SEX', ylabel='count'>"
      ]
     },
     "execution_count": 17,
     "metadata": {},
     "output_type": "execute_result"
    },
    {
     "data": {
      "image/png": "[encoded data removed]",
      "text/plain": [
       "<Figure size 432x288 with 1 Axes>"
      ]
     },
     "metadata": {
      "needs_background": "light"
     },
     "output_type": "display_data"
    }
   ],
   "source": [
    "sns.countplot(x='SEX', hue='OCCUR', data = df_pg)"
   ]
  },
  {
   "cell_type": "code",
   "execution_count": 18,
   "metadata": {},
   "outputs": [
    {
     "data": {
      "text/plain": [
       "<AxesSubplot:xlabel='BGUNCODL'>"
      ]
     },
     "execution_count": 18,
     "metadata": {},
     "output_type": "execute_result"
    },
    {
     "data": {
      "image/png": "[encoded data removed]",
      "text/plain": [
       "<Figure size 432x288 with 1 Axes>"
      ]
     },
     "metadata": {
      "needs_background": "light"
     },
     "output_type": "display_data"
    }
   ],
   "source": [
    "df_pg.groupby(['BGUNCODL']).size().plot(kind = \"bar\") "
   ]
  },
  {
   "cell_type": "markdown",
   "metadata": {},
   "source": [
    "#### EDA:  EMR data "
   ]
  },
  {
   "cell_type": "code",
   "execution_count": 19,
   "metadata": {},
   "outputs": [
    {
     "data": {
      "text/plain": [
       "(179066, 20)"
      ]
     },
     "execution_count": 19,
     "metadata": {},
     "output_type": "execute_result"
    }
   ],
   "source": [
    "df_emr.shape"
   ]
  },
  {
   "cell_type": "code",
   "execution_count": 20,
   "metadata": {},
   "outputs": [
    {
     "data": {
      "text/plain": [
       "10097"
      ]
     },
     "execution_count": 20,
     "metadata": {},
     "output_type": "execute_result"
    }
   ],
   "source": [
    "df_emr.MRN.nunique()"
   ]
  },
  {
   "cell_type": "code",
   "execution_count": 21,
   "metadata": {},
   "outputs": [
    {
     "data": {
      "text/plain": [
       "ENCOUNTER_ID                0\n",
       "ORGANIZATION_NAME           0\n",
       "YEARS                       0\n",
       "MONTHS                      0\n",
       "DAYS                        0\n",
       "MED_RESOURCE_SERVICES       0\n",
       "DESCRIPTION              2243\n",
       "PHYSICIAN_ATTENDING         0\n",
       "PRSNL_GROUP_NAME            0\n",
       "DEPARTMENT_NAME             0\n",
       "SECTIONS                    0\n",
       "APPT_DT_TM                  0\n",
       "APPT_TYPE                   0\n",
       "SLOT_TYPE_DESC              0\n",
       "MRN                         0\n",
       "BIRTH_DT_TM                 0\n",
       "AGE                         4\n",
       "GENDER                      0\n",
       "PATIENT_NATIONALITY         0\n",
       "MARITAL_STATUS              0\n",
       "dtype: int64"
      ]
     },
     "execution_count": 21,
     "metadata": {},
     "output_type": "execute_result"
    }
   ],
   "source": [
    "df_emr.isna().sum()"
   ]
  },
  {
   "cell_type": "code",
   "execution_count": 22,
   "metadata": {},
   "outputs": [
    {
     "data": {
      "text/plain": [
       "Saudi Arabia            174229\n",
       "Desert Wonder             1242\n",
       "Yemen                      928\n",
       "Kuwait                     317\n",
       "Bahrain                    307\n",
       "Syrian Arab Republic       295\n",
       "Philippines                239\n",
       "Morocco                    236\n",
       "Egypt                      150\n",
       "Pakistan                   129\n",
       "Sudan                      110\n",
       "Jordan                      98\n",
       "India                       83\n",
       "Bangladesh                  81\n",
       "USA                         81\n",
       "United Kingdom              65\n",
       "China                       58\n",
       "Malaysia                    51\n",
       "Cameron                     50\n",
       "Eritrea                     49\n",
       "Palestine                   42\n",
       "United Arab Emirates        41\n",
       "France                      37\n",
       "Nigeria                     35\n",
       "Canada                      32\n",
       "Lebanon                     21\n",
       "Unknown                     12\n",
       "Tunisia                     11\n",
       "Indonesia                    8\n",
       "Mauritania                   7\n",
       "Singapore                    6\n",
       "Somalia                      4\n",
       "Undefined                    4\n",
       "Iraq                         3\n",
       "American Samoa               2\n",
       "Niger                        1\n",
       "Ireland                      1\n",
       "Belgium                      1\n",
       "Name: PATIENT_NATIONALITY, dtype: int64"
      ]
     },
     "execution_count": 22,
     "metadata": {},
     "output_type": "execute_result"
    }
   ],
   "source": [
    "df_emr.PATIENT_NATIONALITY.value_counts()"
   ]
  },
  {
   "cell_type": "code",
   "execution_count": 23,
   "metadata": {},
   "outputs": [
    {
     "data": {
      "text/plain": [
       "<AxesSubplot:xlabel='SECTIONS'>"
      ]
     },
     "execution_count": 23,
     "metadata": {},
     "output_type": "execute_result"
    },
    {
     "data": {
      "image/png": "[encoded data removed]",
      "text/plain": [
       "<Figure size 432x288 with 1 Axes>"
      ]
     },
     "metadata": {
      "needs_background": "light"
     },
     "output_type": "display_data"
    }
   ],
   "source": [
    "df_emr.groupby(['SECTIONS']).size().plot(kind='bar')"
   ]
  },
  {
   "cell_type": "code",
   "execution_count": 24,
   "metadata": {},
   "outputs": [
    {
     "data": {
      "text/plain": [
       "Female       98005\n",
       "Male         81057\n",
       "Undefined        4\n",
       "Name: GENDER, dtype: int64"
      ]
     },
     "execution_count": 24,
     "metadata": {},
     "output_type": "execute_result"
    }
   ],
   "source": [
    "df_emr.GENDER.value_counts()"
   ]
  },
  {
   "cell_type": "code",
   "execution_count": 25,
   "metadata": {},
   "outputs": [
    {
     "data": {
      "text/plain": [
       "<AxesSubplot:xlabel='GENDER'>"
      ]
     },
     "execution_count": 25,
     "metadata": {},
     "output_type": "execute_result"
    },
    {
     "data": {
      "image/png": "[encoded data removed]",
      "text/plain": [
       "<Figure size 432x288 with 1 Axes>"
      ]
     },
     "metadata": {
      "needs_background": "light"
     },
     "output_type": "display_data"
    }
   ],
   "source": [
    "df_emr.groupby(['GENDER']).size().plot(kind='bar')"
   ]
  },
  {
   "cell_type": "markdown",
   "metadata": {},
   "source": [
    "### Step 1: Preprocessing"
   ]
  },
  {
   "cell_type": "markdown",
   "metadata": {},
   "source": [
    "#### Step 1.1 PG "
   ]
  },
  {
   "cell_type": "code",
   "execution_count": 26,
   "metadata": {},
   "outputs": [
    {
     "data": {
      "text/plain": [
       "(3000, 44)"
      ]
     },
     "execution_count": 26,
     "metadata": {},
     "output_type": "execute_result"
    }
   ],
   "source": [
    "# Drop unanswered survys\n",
    "df_pg_clean = df_pg[~df_pg.iloc[:, 7:-3].isna().all(axis=1)] \n",
    "df_pg_clean.shape"
   ]
  },
  {
   "cell_type": "code",
   "execution_count": 27,
   "metadata": {},
   "outputs": [
    {
     "data": {
      "text/plain": [
       "Int64Index([   0,    1,    2,    3,    4,    6,    8,   11,   12,   13,\n",
       "            ...\n",
       "            5054, 5056, 5062, 5064, 5066, 5069, 5071, 5074, 5076, 5077],\n",
       "           dtype='int64', length=3000)"
      ]
     },
     "execution_count": 27,
     "metadata": {},
     "output_type": "execute_result"
    }
   ],
   "source": [
    "df_pg_clean.index"
   ]
  },
  {
   "cell_type": "code",
   "execution_count": 28,
   "metadata": {},
   "outputs": [],
   "source": [
    "df_pg_clean.reset_index(inplace = True)"
   ]
  },
  {
   "cell_type": "markdown",
   "metadata": {},
   "source": [
    "#### RT & CT Score Analysis"
   ]
  },
  {
   "cell_type": "code",
   "execution_count": 29,
   "metadata": {},
   "outputs": [
    {
     "data": {
      "text/plain": [
       "RT1    1819\n",
       "RT2    1791\n",
       "RT3    1812\n",
       "RT4    1819\n",
       "RT5    1805\n",
       "CT1    1741\n",
       "CT2    1749\n",
       "CT3    1739\n",
       "CT4    1738\n",
       "CT5    1744\n",
       "CT6    1692\n",
       "dtype: int64"
      ]
     },
     "execution_count": 29,
     "metadata": {},
     "output_type": "execute_result"
    }
   ],
   "source": [
    "#How many Nulls in each column?\n",
    "df_pg_clean.loc[:,['RT1', 'RT2', 'RT3', 'RT4', 'RT5', 'CT1',\n",
    "       'CT2', 'CT3', 'CT4', 'CT5', 'CT6']].isna().sum()"
   ]
  },
  {
   "cell_type": "code",
   "execution_count": 30,
   "metadata": {},
   "outputs": [
    {
     "name": "stderr",
     "output_type": "stream",
     "text": [
      "C:\\Users\\n3534900\\Anaconda3\\lib\\site-packages\\pandas\\core\\indexing.py:1717: SettingWithCopyWarning: \n",
      "A value is trying to be set on a copy of a slice from a DataFrame.\n",
      "Try using .loc[row_indexer,col_indexer] = value instead\n",
      "\n",
      "See the caveats in the documentation: https://pandas.pydata.org/pandas-docs/stable/user_guide/indexing.html#returning-a-view-versus-a-copy\n",
      "  isetter(loc, v)\n"
     ]
    }
   ],
   "source": [
    "#Fill all Nulls with 0s\n",
    "df_pg_clean.loc[:,['RT1', 'RT2', 'RT3', 'RT4', 'RT5', 'CT1',\n",
    "       'CT2', 'CT3', 'CT4', 'CT5', 'CT6']] = df_pg_clean.loc[:,['RT1', 'RT2', 'RT3', 'RT4', 'RT5', 'CT1',\n",
    "       'CT2', 'CT3', 'CT4', 'CT5', 'CT6']].fillna(0)"
   ]
  },
  {
   "cell_type": "code",
   "execution_count": 31,
   "metadata": {},
   "outputs": [
    {
     "name": "stderr",
     "output_type": "stream",
     "text": [
      "C:\\Users\\n3534900\\Anaconda3\\lib\\site-packages\\ipykernel_launcher.py:2: SettingWithCopyWarning: \n",
      "A value is trying to be set on a copy of a slice from a DataFrame.\n",
      "Try using .loc[row_indexer,col_indexer] = value instead\n",
      "\n",
      "See the caveats in the documentation: https://pandas.pydata.org/pandas-docs/stable/user_guide/indexing.html#returning-a-view-versus-a-copy\n",
      "  \n"
     ]
    }
   ],
   "source": [
    "#Create new SCORE column \n",
    "df_pg_clean['SCORE'] = np.nan"
   ]
  },
  {
   "cell_type": "code",
   "execution_count": 32,
   "metadata": {
    "scrolled": true
   },
   "outputs": [
    {
     "name": "stderr",
     "output_type": "stream",
     "text": [
      "C:\\Users\\n3534900\\Anaconda3\\lib\\site-packages\\ipykernel_launcher.py:10: SettingWithCopyWarning: \n",
      "A value is trying to be set on a copy of a slice from a DataFrame\n",
      "\n",
      "See the caveats in the documentation: https://pandas.pydata.org/pandas-docs/stable/user_guide/indexing.html#returning-a-view-versus-a-copy\n",
      "  # Remove the CWD from sys.path while we load stuff.\n",
      "C:\\Users\\n3534900\\Anaconda3\\lib\\site-packages\\IPython\\core\\interactiveshell.py:3417: SettingWithCopyWarning: \n",
      "A value is trying to be set on a copy of a slice from a DataFrame\n",
      "\n",
      "See the caveats in the documentation: https://pandas.pydata.org/pandas-docs/stable/user_guide/indexing.html#returning-a-view-versus-a-copy\n",
      "  exec(code_obj, self.user_global_ns, self.user_ns)\n",
      "C:\\Users\\n3534900\\Anaconda3\\lib\\site-packages\\ipykernel_launcher.py:21: SettingWithCopyWarning: \n",
      "A value is trying to be set on a copy of a slice from a DataFrame\n",
      "\n",
      "See the caveats in the documentation: https://pandas.pydata.org/pandas-docs/stable/user_guide/indexing.html#returning-a-view-versus-a-copy\n",
      "C:\\Users\\n3534900\\Anaconda3\\lib\\site-packages\\ipykernel_launcher.py:14: SettingWithCopyWarning: \n",
      "A value is trying to be set on a copy of a slice from a DataFrame\n",
      "\n",
      "See the caveats in the documentation: https://pandas.pydata.org/pandas-docs/stable/user_guide/indexing.html#returning-a-view-versus-a-copy\n",
      "  \n",
      "C:\\Users\\n3534900\\Anaconda3\\lib\\site-packages\\ipykernel_launcher.py:25: SettingWithCopyWarning: \n",
      "A value is trying to be set on a copy of a slice from a DataFrame\n",
      "\n",
      "See the caveats in the documentation: https://pandas.pydata.org/pandas-docs/stable/user_guide/indexing.html#returning-a-view-versus-a-copy\n",
      "C:\\Users\\n3534900\\Anaconda3\\lib\\site-packages\\ipykernel_launcher.py:12: SettingWithCopyWarning: \n",
      "A value is trying to be set on a copy of a slice from a DataFrame\n",
      "\n",
      "See the caveats in the documentation: https://pandas.pydata.org/pandas-docs/stable/user_guide/indexing.html#returning-a-view-versus-a-copy\n",
      "  if sys.path[0] == '':\n",
      "C:\\Users\\n3534900\\Anaconda3\\lib\\site-packages\\ipykernel_launcher.py:23: SettingWithCopyWarning: \n",
      "A value is trying to be set on a copy of a slice from a DataFrame\n",
      "\n",
      "See the caveats in the documentation: https://pandas.pydata.org/pandas-docs/stable/user_guide/indexing.html#returning-a-view-versus-a-copy\n"
     ]
    }
   ],
   "source": [
    "# for each question consider 1 and 2 as negative 3,4 and 5 as positive\n",
    "#Encoding positive : 1, negative: -1\n",
    "for i, value in enumerate(df_pg_clean.BGUNCODL):\n",
    "    if(value == 1237):\n",
    "        RT1, RT2, RT3, RT4, RT5 = df_pg_clean.loc[i,['RT1', 'RT2', 'RT3', 'RT4', 'RT5']]\n",
    "        RT_total = (RT1+ RT2+ RT3+ RT4+ RT5)\n",
    "        if RT_total != 0:\n",
    "            RT_score = (RT_total/5)\n",
    "            if RT_score >=3:\n",
    "                df_pg_clean['SCORE'][i] = 1\n",
    "            else: \n",
    "                df_pg_clean['SCORE'][i] = 0\n",
    "        else:\n",
    "            df_pg_clean['SCORE'][i] = np.nan\n",
    "    else: \n",
    "        CT1, CT2, CT3, CT4, CT5, CT6 = df_pg_clean.loc[i,['CT1', 'CT2', 'CT3', 'CT4','CT5', 'CT6']]\n",
    "        CT_total = (CT1+ CT2+ CT3+ CT4+ CT5+ CT6)\n",
    "        if CT_total !=0:\n",
    "            CT_score = (CT_total/6)\n",
    "            if CT_score >=3:\n",
    "                df_pg_clean['SCORE'][i] = 1\n",
    "            else: \n",
    "                df_pg_clean['SCORE'][i] = 0\n",
    "        else:\n",
    "            df_pg_clean['SCORE'][i] = np.nan"
   ]
  },
  {
   "cell_type": "code",
   "execution_count": 33,
   "metadata": {},
   "outputs": [
    {
     "data": {
      "text/plain": [
       "<AxesSubplot:xlabel='SCORE'>"
      ]
     },
     "execution_count": 33,
     "metadata": {},
     "output_type": "execute_result"
    },
    {
     "data": {
      "image/png": "[encoded data removed]",
      "text/plain": [
       "<Figure size 432x288 with 1 Axes>"
      ]
     },
     "metadata": {
      "needs_background": "light"
     },
     "output_type": "display_data"
    }
   ],
   "source": [
    "df_pg_clean.groupby(['SCORE']).size().plot(kind = \"bar\") "
   ]
  },
  {
   "cell_type": "code",
   "execution_count": 34,
   "metadata": {},
   "outputs": [
    {
     "data": {
      "text/plain": [
       "440"
      ]
     },
     "execution_count": 34,
     "metadata": {},
     "output_type": "execute_result"
    }
   ],
   "source": [
    "df_pg_clean['SCORE'].isna().sum()"
   ]
  },
  {
   "cell_type": "code",
   "execution_count": 35,
   "metadata": {},
   "outputs": [
    {
     "data": {
      "text/plain": [
       "1.0    2319\n",
       "0.0     241\n",
       "Name: SCORE, dtype: int64"
      ]
     },
     "execution_count": 35,
     "metadata": {},
     "output_type": "execute_result"
    }
   ],
   "source": [
    "df_pg_clean['SCORE'].value_counts()"
   ]
  },
  {
   "cell_type": "markdown",
   "metadata": {},
   "source": [
    "#### Overall Score Analysis"
   ]
  },
  {
   "cell_type": "code",
   "execution_count": 36,
   "metadata": {},
   "outputs": [
    {
     "name": "stderr",
     "output_type": "stream",
     "text": [
      "C:\\Users\\n3534900\\Anaconda3\\lib\\site-packages\\ipykernel_launcher.py:1: SettingWithCopyWarning: \n",
      "A value is trying to be set on a copy of a slice from a DataFrame.\n",
      "Try using .loc[row_indexer,col_indexer] = value instead\n",
      "\n",
      "See the caveats in the documentation: https://pandas.pydata.org/pandas-docs/stable/user_guide/indexing.html#returning-a-view-versus-a-copy\n",
      "  \"\"\"Entry point for launching an IPython kernel.\n"
     ]
    }
   ],
   "source": [
    "df_pg_clean['O_SCORE'] = np.nan"
   ]
  },
  {
   "cell_type": "code",
   "execution_count": 37,
   "metadata": {},
   "outputs": [
    {
     "data": {
      "text/plain": [
       "O1    502\n",
       "O2    408\n",
       "O3    431\n",
       "dtype: int64"
      ]
     },
     "execution_count": 37,
     "metadata": {},
     "output_type": "execute_result"
    }
   ],
   "source": [
    "df_pg_clean.loc[:,['O1', 'O2', 'O3']].isna().sum()"
   ]
  },
  {
   "cell_type": "code",
   "execution_count": 38,
   "metadata": {},
   "outputs": [],
   "source": [
    "# fill all null values with 0s \n",
    "df_pg_clean.loc[:,['O1', 'O2', 'O3']] = df_pg_clean.loc[:,['O1', 'O2', 'O3']].fillna(0)"
   ]
  },
  {
   "cell_type": "code",
   "execution_count": 39,
   "metadata": {},
   "outputs": [
    {
     "data": {
      "text/plain": [
       "0"
      ]
     },
     "execution_count": 39,
     "metadata": {},
     "output_type": "execute_result"
    }
   ],
   "source": [
    "df_pg_clean.loc[:,['O1', 'O2', 'O3']].isna().sum().sum()"
   ]
  },
  {
   "cell_type": "code",
   "execution_count": 40,
   "metadata": {
    "scrolled": true
   },
   "outputs": [
    {
     "name": "stderr",
     "output_type": "stream",
     "text": [
      "C:\\Users\\n3534900\\Anaconda3\\lib\\site-packages\\ipykernel_launcher.py:7: SettingWithCopyWarning: \n",
      "A value is trying to be set on a copy of a slice from a DataFrame\n",
      "\n",
      "See the caveats in the documentation: https://pandas.pydata.org/pandas-docs/stable/user_guide/indexing.html#returning-a-view-versus-a-copy\n",
      "  import sys\n",
      "C:\\Users\\n3534900\\Anaconda3\\lib\\site-packages\\ipykernel_launcher.py:9: SettingWithCopyWarning: \n",
      "A value is trying to be set on a copy of a slice from a DataFrame\n",
      "\n",
      "See the caveats in the documentation: https://pandas.pydata.org/pandas-docs/stable/user_guide/indexing.html#returning-a-view-versus-a-copy\n",
      "  if __name__ == '__main__':\n",
      "C:\\Users\\n3534900\\Anaconda3\\lib\\site-packages\\ipykernel_launcher.py:11: SettingWithCopyWarning: \n",
      "A value is trying to be set on a copy of a slice from a DataFrame\n",
      "\n",
      "See the caveats in the documentation: https://pandas.pydata.org/pandas-docs/stable/user_guide/indexing.html#returning-a-view-versus-a-copy\n",
      "  # This is added back by InteractiveShellApp.init_path()\n"
     ]
    }
   ],
   "source": [
    "for i, value in df_pg_clean.iterrows():\n",
    "    O1, O2, O3 = df_pg_clean.loc[i,['O1', 'O2', 'O3']]\n",
    "    total = O1+ O2+ O3\n",
    "    if total != 0:\n",
    "        score = total/3\n",
    "        if score >=3:\n",
    "            df_pg_clean['O_SCORE'][i] = 1\n",
    "        else:\n",
    "            df_pg_clean['O_SCORE'][i] = 0\n",
    "    else:\n",
    "        df_pg_clean['O_SCORE'][i] = np.nan\n"
   ]
  },
  {
   "cell_type": "code",
   "execution_count": 41,
   "metadata": {},
   "outputs": [
    {
     "data": {
      "text/plain": [
       "<AxesSubplot:xlabel='O_SCORE'>"
      ]
     },
     "execution_count": 41,
     "metadata": {},
     "output_type": "execute_result"
    },
    {
     "data": {
      "image/png": "[encoded data removed]",
      "text/plain": [
       "<Figure size 432x288 with 1 Axes>"
      ]
     },
     "metadata": {
      "needs_background": "light"
     },
     "output_type": "display_data"
    }
   ],
   "source": [
    "df_pg_clean.groupby(['O_SCORE']).size().plot(kind = \"bar\") "
   ]
  },
  {
   "cell_type": "code",
   "execution_count": 42,
   "metadata": {},
   "outputs": [
    {
     "data": {
      "text/plain": [
       "398"
      ]
     },
     "execution_count": 42,
     "metadata": {},
     "output_type": "execute_result"
    }
   ],
   "source": [
    "df_pg_clean['O_SCORE'].isna().sum()"
   ]
  },
  {
   "cell_type": "code",
   "execution_count": 43,
   "metadata": {},
   "outputs": [
    {
     "data": {
      "text/plain": [
       "1.0    2471\n",
       "0.0     131\n",
       "Name: O_SCORE, dtype: int64"
      ]
     },
     "execution_count": 43,
     "metadata": {},
     "output_type": "execute_result"
    }
   ],
   "source": [
    "df_pg_clean['O_SCORE'].value_counts()"
   ]
  },
  {
   "cell_type": "markdown",
   "metadata": {},
   "source": [
    "#### Overall Score 3 Options"
   ]
  },
  {
   "cell_type": "code",
   "execution_count": 44,
   "metadata": {},
   "outputs": [
    {
     "name": "stderr",
     "output_type": "stream",
     "text": [
      "C:\\Users\\n3534900\\Anaconda3\\lib\\site-packages\\ipykernel_launcher.py:1: SettingWithCopyWarning: \n",
      "A value is trying to be set on a copy of a slice from a DataFrame.\n",
      "Try using .loc[row_indexer,col_indexer] = value instead\n",
      "\n",
      "See the caveats in the documentation: https://pandas.pydata.org/pandas-docs/stable/user_guide/indexing.html#returning-a-view-versus-a-copy\n",
      "  \"\"\"Entry point for launching an IPython kernel.\n"
     ]
    }
   ],
   "source": [
    "df_pg_clean['O_SCORE_3'] = np.nan"
   ]
  },
  {
   "cell_type": "code",
   "execution_count": 45,
   "metadata": {
    "scrolled": true
   },
   "outputs": [
    {
     "name": "stderr",
     "output_type": "stream",
     "text": [
      "C:\\Users\\n3534900\\Anaconda3\\lib\\site-packages\\ipykernel_launcher.py:8: SettingWithCopyWarning: \n",
      "A value is trying to be set on a copy of a slice from a DataFrame\n",
      "\n",
      "See the caveats in the documentation: https://pandas.pydata.org/pandas-docs/stable/user_guide/indexing.html#returning-a-view-versus-a-copy\n",
      "  \n",
      "C:\\Users\\n3534900\\Anaconda3\\lib\\site-packages\\ipykernel_launcher.py:12: SettingWithCopyWarning: \n",
      "A value is trying to be set on a copy of a slice from a DataFrame\n",
      "\n",
      "See the caveats in the documentation: https://pandas.pydata.org/pandas-docs/stable/user_guide/indexing.html#returning-a-view-versus-a-copy\n",
      "  if sys.path[0] == '':\n",
      "C:\\Users\\n3534900\\Anaconda3\\lib\\site-packages\\ipykernel_launcher.py:14: SettingWithCopyWarning: \n",
      "A value is trying to be set on a copy of a slice from a DataFrame\n",
      "\n",
      "See the caveats in the documentation: https://pandas.pydata.org/pandas-docs/stable/user_guide/indexing.html#returning-a-view-versus-a-copy\n",
      "  \n",
      "C:\\Users\\n3534900\\Anaconda3\\lib\\site-packages\\ipykernel_launcher.py:10: SettingWithCopyWarning: \n",
      "A value is trying to be set on a copy of a slice from a DataFrame\n",
      "\n",
      "See the caveats in the documentation: https://pandas.pydata.org/pandas-docs/stable/user_guide/indexing.html#returning-a-view-versus-a-copy\n",
      "  # Remove the CWD from sys.path while we load stuff.\n"
     ]
    }
   ],
   "source": [
    "#Encoding 1: +ve, 0: -ve, 3: neutral\n",
    "for i, value in df_pg_clean.iterrows():\n",
    "    O1, O2, O3 = df_pg_clean.loc[i,['O1', 'O2', 'O3']]\n",
    "    total = O1+ O2+ O3\n",
    "    if total != 0:\n",
    "        score = total/3\n",
    "        if score >3:\n",
    "            df_pg_clean['O_SCORE_3'][i] = 1\n",
    "        elif score == 3:\n",
    "            df_pg_clean['O_SCORE_3'][i] = 3\n",
    "        else:\n",
    "            df_pg_clean['O_SCORE_3'][i] = 0\n",
    "    else:\n",
    "        df_pg_clean['O_SCORE_3'][i] = np.nan"
   ]
  },
  {
   "cell_type": "code",
   "execution_count": 46,
   "metadata": {},
   "outputs": [
    {
     "data": {
      "text/plain": [
       "<AxesSubplot:xlabel='O_SCORE_3'>"
      ]
     },
     "execution_count": 46,
     "metadata": {},
     "output_type": "execute_result"
    },
    {
     "data": {
      "image/png": "[encoded data removed]",
      "text/plain": [
       "<Figure size 432x288 with 1 Axes>"
      ]
     },
     "metadata": {
      "needs_background": "light"
     },
     "output_type": "display_data"
    }
   ],
   "source": [
    "df_pg_clean.groupby(['O_SCORE_3']).size().plot(kind = \"bar\") "
   ]
  },
  {
   "cell_type": "code",
   "execution_count": 47,
   "metadata": {},
   "outputs": [
    {
     "data": {
      "text/plain": [
       "1.0    2398\n",
       "0.0     131\n",
       "3.0      73\n",
       "Name: O_SCORE_3, dtype: int64"
      ]
     },
     "execution_count": 47,
     "metadata": {},
     "output_type": "execute_result"
    }
   ],
   "source": [
    "df_pg_clean['O_SCORE_3'].value_counts()"
   ]
  },
  {
   "cell_type": "code",
   "execution_count": 48,
   "metadata": {},
   "outputs": [
    {
     "data": {
      "text/plain": [
       "398"
      ]
     },
     "execution_count": 48,
     "metadata": {},
     "output_type": "execute_result"
    }
   ],
   "source": [
    "df_pg_clean.O_SCORE_3.isna().sum()"
   ]
  },
  {
   "cell_type": "code",
   "execution_count": 49,
   "metadata": {},
   "outputs": [
    {
     "data": {
      "text/html": [
       "<div>\n",
       "<style scoped>\n",
       "    .dataframe tbody tr th:only-of-type {\n",
       "        vertical-align: middle;\n",
       "    }\n",
       "\n",
       "    .dataframe tbody tr th {\n",
       "        vertical-align: top;\n",
       "    }\n",
       "\n",
       "    .dataframe thead th {\n",
       "        text-align: right;\n",
       "    }\n",
       "</style>\n",
       "<table border=\"1\" class=\"dataframe\">\n",
       "  <thead>\n",
       "    <tr style=\"text-align: right;\">\n",
       "      <th></th>\n",
       "      <th>index</th>\n",
       "      <th>HOS</th>\n",
       "      <th>BGUNCODL</th>\n",
       "      <th>DISMM</th>\n",
       "      <th>DISDD</th>\n",
       "      <th>DISYR</th>\n",
       "      <th>OCCUR</th>\n",
       "      <th>CSURVEY</th>\n",
       "      <th>A1</th>\n",
       "      <th>A2</th>\n",
       "      <th>...</th>\n",
       "      <th>I13</th>\n",
       "      <th>O1</th>\n",
       "      <th>O2</th>\n",
       "      <th>O3</th>\n",
       "      <th>RACE</th>\n",
       "      <th>SEX</th>\n",
       "      <th>AGE</th>\n",
       "      <th>SCORE</th>\n",
       "      <th>O_SCORE</th>\n",
       "      <th>O_SCORE_3</th>\n",
       "    </tr>\n",
       "  </thead>\n",
       "  <tbody>\n",
       "    <tr>\n",
       "      <th>0</th>\n",
       "      <td>0</td>\n",
       "      <td>15611</td>\n",
       "      <td>1237</td>\n",
       "      <td>9</td>\n",
       "      <td>8</td>\n",
       "      <td>2019</td>\n",
       "      <td>2.0</td>\n",
       "      <td>1.0</td>\n",
       "      <td>5.0</td>\n",
       "      <td>4.0</td>\n",
       "      <td>...</td>\n",
       "      <td>4.0</td>\n",
       "      <td>4.0</td>\n",
       "      <td>4.0</td>\n",
       "      <td>5.0</td>\n",
       "      <td>16.0</td>\n",
       "      <td>2</td>\n",
       "      <td>45.0</td>\n",
       "      <td>1.0</td>\n",
       "      <td>1.0</td>\n",
       "      <td>1.0</td>\n",
       "    </tr>\n",
       "    <tr>\n",
       "      <th>1</th>\n",
       "      <td>1</td>\n",
       "      <td>15611</td>\n",
       "      <td>1234</td>\n",
       "      <td>11</td>\n",
       "      <td>19</td>\n",
       "      <td>2018</td>\n",
       "      <td>1.0</td>\n",
       "      <td>1.0</td>\n",
       "      <td>3.0</td>\n",
       "      <td>4.0</td>\n",
       "      <td>...</td>\n",
       "      <td>4.0</td>\n",
       "      <td>5.0</td>\n",
       "      <td>4.0</td>\n",
       "      <td>5.0</td>\n",
       "      <td>16.0</td>\n",
       "      <td>1</td>\n",
       "      <td>53.0</td>\n",
       "      <td>1.0</td>\n",
       "      <td>1.0</td>\n",
       "      <td>1.0</td>\n",
       "    </tr>\n",
       "    <tr>\n",
       "      <th>2</th>\n",
       "      <td>2</td>\n",
       "      <td>15611</td>\n",
       "      <td>1237</td>\n",
       "      <td>9</td>\n",
       "      <td>24</td>\n",
       "      <td>2019</td>\n",
       "      <td>1.0</td>\n",
       "      <td>1.0</td>\n",
       "      <td>5.0</td>\n",
       "      <td>5.0</td>\n",
       "      <td>...</td>\n",
       "      <td>5.0</td>\n",
       "      <td>5.0</td>\n",
       "      <td>5.0</td>\n",
       "      <td>5.0</td>\n",
       "      <td>16.0</td>\n",
       "      <td>2</td>\n",
       "      <td>35.0</td>\n",
       "      <td>1.0</td>\n",
       "      <td>1.0</td>\n",
       "      <td>1.0</td>\n",
       "    </tr>\n",
       "    <tr>\n",
       "      <th>3</th>\n",
       "      <td>3</td>\n",
       "      <td>15611</td>\n",
       "      <td>1237</td>\n",
       "      <td>11</td>\n",
       "      <td>19</td>\n",
       "      <td>2018</td>\n",
       "      <td>2.0</td>\n",
       "      <td>1.0</td>\n",
       "      <td>3.0</td>\n",
       "      <td>3.0</td>\n",
       "      <td>...</td>\n",
       "      <td>NaN</td>\n",
       "      <td>0.0</td>\n",
       "      <td>4.0</td>\n",
       "      <td>0.0</td>\n",
       "      <td>16.0</td>\n",
       "      <td>1</td>\n",
       "      <td>73.0</td>\n",
       "      <td>NaN</td>\n",
       "      <td>0.0</td>\n",
       "      <td>0.0</td>\n",
       "    </tr>\n",
       "    <tr>\n",
       "      <th>4</th>\n",
       "      <td>4</td>\n",
       "      <td>15611</td>\n",
       "      <td>1234</td>\n",
       "      <td>11</td>\n",
       "      <td>11</td>\n",
       "      <td>2019</td>\n",
       "      <td>1.0</td>\n",
       "      <td>1.0</td>\n",
       "      <td>5.0</td>\n",
       "      <td>5.0</td>\n",
       "      <td>...</td>\n",
       "      <td>4.0</td>\n",
       "      <td>5.0</td>\n",
       "      <td>5.0</td>\n",
       "      <td>5.0</td>\n",
       "      <td>16.0</td>\n",
       "      <td>1</td>\n",
       "      <td>41.0</td>\n",
       "      <td>1.0</td>\n",
       "      <td>1.0</td>\n",
       "      <td>1.0</td>\n",
       "    </tr>\n",
       "    <tr>\n",
       "      <th>...</th>\n",
       "      <td>...</td>\n",
       "      <td>...</td>\n",
       "      <td>...</td>\n",
       "      <td>...</td>\n",
       "      <td>...</td>\n",
       "      <td>...</td>\n",
       "      <td>...</td>\n",
       "      <td>...</td>\n",
       "      <td>...</td>\n",
       "      <td>...</td>\n",
       "      <td>...</td>\n",
       "      <td>...</td>\n",
       "      <td>...</td>\n",
       "      <td>...</td>\n",
       "      <td>...</td>\n",
       "      <td>...</td>\n",
       "      <td>...</td>\n",
       "      <td>...</td>\n",
       "      <td>...</td>\n",
       "      <td>...</td>\n",
       "      <td>...</td>\n",
       "    </tr>\n",
       "    <tr>\n",
       "      <th>2995</th>\n",
       "      <td>5069</td>\n",
       "      <td>15611</td>\n",
       "      <td>1237</td>\n",
       "      <td>4</td>\n",
       "      <td>4</td>\n",
       "      <td>2018</td>\n",
       "      <td>2.0</td>\n",
       "      <td>1.0</td>\n",
       "      <td>5.0</td>\n",
       "      <td>5.0</td>\n",
       "      <td>...</td>\n",
       "      <td>5.0</td>\n",
       "      <td>5.0</td>\n",
       "      <td>5.0</td>\n",
       "      <td>5.0</td>\n",
       "      <td>16.0</td>\n",
       "      <td>2</td>\n",
       "      <td>53.0</td>\n",
       "      <td>1.0</td>\n",
       "      <td>1.0</td>\n",
       "      <td>1.0</td>\n",
       "    </tr>\n",
       "    <tr>\n",
       "      <th>2996</th>\n",
       "      <td>5071</td>\n",
       "      <td>15611</td>\n",
       "      <td>1237</td>\n",
       "      <td>12</td>\n",
       "      <td>10</td>\n",
       "      <td>2018</td>\n",
       "      <td>1.0</td>\n",
       "      <td>1.0</td>\n",
       "      <td>5.0</td>\n",
       "      <td>5.0</td>\n",
       "      <td>...</td>\n",
       "      <td>5.0</td>\n",
       "      <td>5.0</td>\n",
       "      <td>5.0</td>\n",
       "      <td>5.0</td>\n",
       "      <td>16.0</td>\n",
       "      <td>2</td>\n",
       "      <td>19.0</td>\n",
       "      <td>1.0</td>\n",
       "      <td>1.0</td>\n",
       "      <td>1.0</td>\n",
       "    </tr>\n",
       "    <tr>\n",
       "      <th>2997</th>\n",
       "      <td>5074</td>\n",
       "      <td>15611</td>\n",
       "      <td>1237</td>\n",
       "      <td>8</td>\n",
       "      <td>25</td>\n",
       "      <td>2019</td>\n",
       "      <td>2.0</td>\n",
       "      <td>2.0</td>\n",
       "      <td>4.0</td>\n",
       "      <td>NaN</td>\n",
       "      <td>...</td>\n",
       "      <td>NaN</td>\n",
       "      <td>0.0</td>\n",
       "      <td>0.0</td>\n",
       "      <td>0.0</td>\n",
       "      <td>16.0</td>\n",
       "      <td>2</td>\n",
       "      <td>38.0</td>\n",
       "      <td>NaN</td>\n",
       "      <td>NaN</td>\n",
       "      <td>NaN</td>\n",
       "    </tr>\n",
       "    <tr>\n",
       "      <th>2998</th>\n",
       "      <td>5076</td>\n",
       "      <td>15611</td>\n",
       "      <td>1237</td>\n",
       "      <td>12</td>\n",
       "      <td>18</td>\n",
       "      <td>2018</td>\n",
       "      <td>1.0</td>\n",
       "      <td>1.0</td>\n",
       "      <td>5.0</td>\n",
       "      <td>5.0</td>\n",
       "      <td>...</td>\n",
       "      <td>5.0</td>\n",
       "      <td>5.0</td>\n",
       "      <td>5.0</td>\n",
       "      <td>5.0</td>\n",
       "      <td>16.0</td>\n",
       "      <td>2</td>\n",
       "      <td>53.0</td>\n",
       "      <td>1.0</td>\n",
       "      <td>1.0</td>\n",
       "      <td>1.0</td>\n",
       "    </tr>\n",
       "    <tr>\n",
       "      <th>2999</th>\n",
       "      <td>5077</td>\n",
       "      <td>15611</td>\n",
       "      <td>1234</td>\n",
       "      <td>1</td>\n",
       "      <td>15</td>\n",
       "      <td>2019</td>\n",
       "      <td>2.0</td>\n",
       "      <td>1.0</td>\n",
       "      <td>1.0</td>\n",
       "      <td>1.0</td>\n",
       "      <td>...</td>\n",
       "      <td>4.0</td>\n",
       "      <td>5.0</td>\n",
       "      <td>5.0</td>\n",
       "      <td>5.0</td>\n",
       "      <td>16.0</td>\n",
       "      <td>1</td>\n",
       "      <td>29.0</td>\n",
       "      <td>0.0</td>\n",
       "      <td>1.0</td>\n",
       "      <td>1.0</td>\n",
       "    </tr>\n",
       "  </tbody>\n",
       "</table>\n",
       "<p>3000 rows × 48 columns</p>\n",
       "</div>"
      ],
      "text/plain": [
       "      index    HOS  BGUNCODL  DISMM  DISDD  DISYR  OCCUR  CSURVEY   A1   A2  \\\n",
       "0         0  15611      1237      9      8   2019    2.0      1.0  5.0  4.0   \n",
       "1         1  15611      1234     11     19   2018    1.0      1.0  3.0  4.0   \n",
       "2         2  15611      1237      9     24   2019    1.0      1.0  5.0  5.0   \n",
       "3         3  15611      1237     11     19   2018    2.0      1.0  3.0  3.0   \n",
       "4         4  15611      1234     11     11   2019    1.0      1.0  5.0  5.0   \n",
       "...     ...    ...       ...    ...    ...    ...    ...      ...  ...  ...   \n",
       "2995   5069  15611      1237      4      4   2018    2.0      1.0  5.0  5.0   \n",
       "2996   5071  15611      1237     12     10   2018    1.0      1.0  5.0  5.0   \n",
       "2997   5074  15611      1237      8     25   2019    2.0      2.0  4.0  NaN   \n",
       "2998   5076  15611      1237     12     18   2018    1.0      1.0  5.0  5.0   \n",
       "2999   5077  15611      1234      1     15   2019    2.0      1.0  1.0  1.0   \n",
       "\n",
       "      ...  I13   O1   O2   O3  RACE  SEX   AGE  SCORE  O_SCORE  O_SCORE_3  \n",
       "0     ...  4.0  4.0  4.0  5.0  16.0    2  45.0    1.0      1.0        1.0  \n",
       "1     ...  4.0  5.0  4.0  5.0  16.0    1  53.0    1.0      1.0        1.0  \n",
       "2     ...  5.0  5.0  5.0  5.0  16.0    2  35.0    1.0      1.0        1.0  \n",
       "3     ...  NaN  0.0  4.0  0.0  16.0    1  73.0    NaN      0.0        0.0  \n",
       "4     ...  4.0  5.0  5.0  5.0  16.0    1  41.0    1.0      1.0        1.0  \n",
       "...   ...  ...  ...  ...  ...   ...  ...   ...    ...      ...        ...  \n",
       "2995  ...  5.0  5.0  5.0  5.0  16.0    2  53.0    1.0      1.0        1.0  \n",
       "2996  ...  5.0  5.0  5.0  5.0  16.0    2  19.0    1.0      1.0        1.0  \n",
       "2997  ...  NaN  0.0  0.0  0.0  16.0    2  38.0    NaN      NaN        NaN  \n",
       "2998  ...  5.0  5.0  5.0  5.0  16.0    2  53.0    1.0      1.0        1.0  \n",
       "2999  ...  4.0  5.0  5.0  5.0  16.0    1  29.0    0.0      1.0        1.0  \n",
       "\n",
       "[3000 rows x 48 columns]"
      ]
     },
     "execution_count": 49,
     "metadata": {},
     "output_type": "execute_result"
    }
   ],
   "source": [
    "df_pg_clean"
   ]
  },
  {
   "cell_type": "code",
   "execution_count": null,
   "metadata": {},
   "outputs": [],
   "source": []
  }
 ],
 "metadata": {
  "kernelspec": {
   "display_name": "Python 3",
   "language": "python",
   "name": "python3"
  },
  "language_info": {
   "codemirror_mode": {
    "name": "ipython",
    "version": 3
   },
   "file_extension": ".py",
   "mimetype": "text/x-python",
   "name": "python",
   "nbconvert_exporter": "python",
   "pygments_lexer": "ipython3",
   "version": "3.7.3"
  }
 },
 "nbformat": 4,
 "nbformat_minor": 4
}
